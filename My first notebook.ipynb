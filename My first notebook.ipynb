{
    "cells": [
        {
            "cell_type": "code",
            "execution_count": null,
            "source": [
                "import matplotlib.pyplot as plt\r\n",
                "import numpy as np\r\n",
                "a = np.array([1, 2, 3, 4, 5, 8, 6,7,8,9])\r\n",
                "b = np.array([9,8,7,9,6,5,4,3,2,1])\r\n",
                "\r\n",
                "# plt.bar(a, b , width=0.8)\r\n",
                "plt.show()\r\n",
                "plt.plot(a, b, marker = 'o', ms =5, mec = 'b', mfc = 'g', ls = 'dashed', color = 'g', lw = 2) #marker, line, color\r\n",
                "plt.xlabel('Years')\r\n",
                "plt.ylabel('Sales')\r\n",
                "plt.title('Sales against Year', loc = 'left')\r\n",
                "plt.grid( ls ='--')\r\n",
                "# plt.plot([12, 9, 7, 7.5, 6], color ='y', lw =2, marker = 'o', mec = 'r', mfc = 'b', ls = '--')\r\n",
                "plt.show()\r\n",
                "plt.scatter(a, b)\r\n",
                "# dir(plt)\r\n"
            ],
            "outputs": [],
            "metadata": {}
        }
    ],
    "metadata": {
        "orig_nbformat": 4,
        "language_info": {
            "name": "python"
        }
    },
    "nbformat": 4,
    "nbformat_minor": 2
}